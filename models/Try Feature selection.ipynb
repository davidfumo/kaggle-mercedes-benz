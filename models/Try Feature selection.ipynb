{
 "cells": [
  {
   "cell_type": "code",
   "execution_count": 1069,
   "metadata": {
    "collapsed": true
   },
   "outputs": [],
   "source": [
    "import numpy as np\n",
    "import pandas as pd\n",
    "from sklearn.ensemble import RandomForestRegressor, ExtraTreesRegressor, GradientBoostingRegressor\n",
    "from sklearn.linear_model import ElasticNet, Lasso, LinearRegression\n",
    "from sklearn.feature_selection import SelectFromModel\n",
    "from sklearn.svm import SVR\n",
    "from sklearn.model_selection import KFold, cross_val_score\n",
    "from sklearn.pipeline import make_pipeline\n",
    "from sklearn.decomposition import PCA\n",
    "from sklearn.preprocessing import RobustScaler\n",
    "from sklearn.base import BaseEstimator, TransformerMixin, RegressorMixin, clone\n",
    "import xgboost as xgb\n",
    "\n",
    "import matplotlib.pyplot as plt\n",
    "\n",
    "% matplotlib inline\n",
    "\n",
    "import seaborn as sns"
   ]
  },
  {
   "cell_type": "code",
   "execution_count": 1070,
   "metadata": {
    "collapsed": true
   },
   "outputs": [],
   "source": [
    "train = pd.read_csv('../input/train.csv')\n",
    "test = pd.read_csv('../input/test.csv')"
   ]
  },
  {
   "cell_type": "code",
   "execution_count": 1071,
   "metadata": {
    "collapsed": true
   },
   "outputs": [],
   "source": [
    "train_magic = pd.read_csv('../input/train_magic.csv')\n",
    "test_magic = pd.read_csv('../input/test_magic.csv')"
   ]
  },
  {
   "cell_type": "code",
   "execution_count": 1072,
   "metadata": {
    "collapsed": true
   },
   "outputs": [],
   "source": [
    "train['meanX0'] = train_magic['meanX0']\n",
    "test['meanX0'] = test_magic['meanX0']"
   ]
  },
  {
   "cell_type": "code",
   "execution_count": 1073,
   "metadata": {
    "collapsed": false
   },
   "outputs": [],
   "source": [
    "y_train = train['y'].values\n",
    "\n",
    "y_mean = np.mean(y_train)"
   ]
  },
  {
   "cell_type": "code",
   "execution_count": 1074,
   "metadata": {
    "collapsed": false
   },
   "outputs": [
    {
     "data": {
      "text/html": [
       "<div>\n",
       "<table border=\"1\" class=\"dataframe\">\n",
       "  <thead>\n",
       "    <tr style=\"text-align: right;\">\n",
       "      <th></th>\n",
       "      <th>ID</th>\n",
       "      <th>y</th>\n",
       "      <th>X0</th>\n",
       "      <th>X1</th>\n",
       "      <th>X2</th>\n",
       "      <th>X3</th>\n",
       "      <th>X4</th>\n",
       "      <th>X5</th>\n",
       "      <th>X6</th>\n",
       "      <th>X8</th>\n",
       "      <th>...</th>\n",
       "      <th>X376</th>\n",
       "      <th>X377</th>\n",
       "      <th>X378</th>\n",
       "      <th>X379</th>\n",
       "      <th>X380</th>\n",
       "      <th>X382</th>\n",
       "      <th>X383</th>\n",
       "      <th>X384</th>\n",
       "      <th>X385</th>\n",
       "      <th>meanX0</th>\n",
       "    </tr>\n",
       "  </thead>\n",
       "  <tbody>\n",
       "    <tr>\n",
       "      <th>0</th>\n",
       "      <td>0</td>\n",
       "      <td>130.81</td>\n",
       "      <td>k</td>\n",
       "      <td>v</td>\n",
       "      <td>at</td>\n",
       "      <td>a</td>\n",
       "      <td>d</td>\n",
       "      <td>u</td>\n",
       "      <td>j</td>\n",
       "      <td>o</td>\n",
       "      <td>...</td>\n",
       "      <td>0</td>\n",
       "      <td>1</td>\n",
       "      <td>0</td>\n",
       "      <td>0</td>\n",
       "      <td>0</td>\n",
       "      <td>0</td>\n",
       "      <td>0</td>\n",
       "      <td>0</td>\n",
       "      <td>0</td>\n",
       "      <td>99.491818</td>\n",
       "    </tr>\n",
       "    <tr>\n",
       "      <th>1</th>\n",
       "      <td>6</td>\n",
       "      <td>88.53</td>\n",
       "      <td>k</td>\n",
       "      <td>t</td>\n",
       "      <td>av</td>\n",
       "      <td>e</td>\n",
       "      <td>d</td>\n",
       "      <td>y</td>\n",
       "      <td>l</td>\n",
       "      <td>o</td>\n",
       "      <td>...</td>\n",
       "      <td>0</td>\n",
       "      <td>0</td>\n",
       "      <td>0</td>\n",
       "      <td>0</td>\n",
       "      <td>0</td>\n",
       "      <td>0</td>\n",
       "      <td>0</td>\n",
       "      <td>0</td>\n",
       "      <td>0</td>\n",
       "      <td>103.974834</td>\n",
       "    </tr>\n",
       "    <tr>\n",
       "      <th>2</th>\n",
       "      <td>7</td>\n",
       "      <td>76.26</td>\n",
       "      <td>az</td>\n",
       "      <td>w</td>\n",
       "      <td>n</td>\n",
       "      <td>c</td>\n",
       "      <td>d</td>\n",
       "      <td>x</td>\n",
       "      <td>j</td>\n",
       "      <td>x</td>\n",
       "      <td>...</td>\n",
       "      <td>0</td>\n",
       "      <td>0</td>\n",
       "      <td>0</td>\n",
       "      <td>0</td>\n",
       "      <td>0</td>\n",
       "      <td>1</td>\n",
       "      <td>0</td>\n",
       "      <td>0</td>\n",
       "      <td>0</td>\n",
       "      <td>112.552235</td>\n",
       "    </tr>\n",
       "    <tr>\n",
       "      <th>3</th>\n",
       "      <td>9</td>\n",
       "      <td>80.62</td>\n",
       "      <td>az</td>\n",
       "      <td>t</td>\n",
       "      <td>n</td>\n",
       "      <td>f</td>\n",
       "      <td>d</td>\n",
       "      <td>x</td>\n",
       "      <td>l</td>\n",
       "      <td>e</td>\n",
       "      <td>...</td>\n",
       "      <td>0</td>\n",
       "      <td>0</td>\n",
       "      <td>0</td>\n",
       "      <td>0</td>\n",
       "      <td>0</td>\n",
       "      <td>0</td>\n",
       "      <td>0</td>\n",
       "      <td>0</td>\n",
       "      <td>0</td>\n",
       "      <td>93.724575</td>\n",
       "    </tr>\n",
       "    <tr>\n",
       "      <th>4</th>\n",
       "      <td>13</td>\n",
       "      <td>78.02</td>\n",
       "      <td>az</td>\n",
       "      <td>v</td>\n",
       "      <td>n</td>\n",
       "      <td>f</td>\n",
       "      <td>d</td>\n",
       "      <td>h</td>\n",
       "      <td>d</td>\n",
       "      <td>n</td>\n",
       "      <td>...</td>\n",
       "      <td>0</td>\n",
       "      <td>0</td>\n",
       "      <td>0</td>\n",
       "      <td>0</td>\n",
       "      <td>0</td>\n",
       "      <td>0</td>\n",
       "      <td>0</td>\n",
       "      <td>0</td>\n",
       "      <td>0</td>\n",
       "      <td>95.121361</td>\n",
       "    </tr>\n",
       "  </tbody>\n",
       "</table>\n",
       "<p>5 rows × 379 columns</p>\n",
       "</div>"
      ],
      "text/plain": [
       "   ID       y  X0 X1  X2 X3 X4 X5 X6 X8     ...      X376  X377  X378  X379  \\\n",
       "0   0  130.81   k  v  at  a  d  u  j  o     ...         0     1     0     0   \n",
       "1   6   88.53   k  t  av  e  d  y  l  o     ...         0     0     0     0   \n",
       "2   7   76.26  az  w   n  c  d  x  j  x     ...         0     0     0     0   \n",
       "3   9   80.62  az  t   n  f  d  x  l  e     ...         0     0     0     0   \n",
       "4  13   78.02  az  v   n  f  d  h  d  n     ...         0     0     0     0   \n",
       "\n",
       "   X380  X382  X383  X384  X385      meanX0  \n",
       "0     0     0     0     0     0   99.491818  \n",
       "1     0     0     0     0     0  103.974834  \n",
       "2     0     1     0     0     0  112.552235  \n",
       "3     0     0     0     0     0   93.724575  \n",
       "4     0     0     0     0     0   95.121361  \n",
       "\n",
       "[5 rows x 379 columns]"
      ]
     },
     "execution_count": 1074,
     "metadata": {},
     "output_type": "execute_result"
    }
   ],
   "source": [
    "train.head()"
   ]
  },
  {
   "cell_type": "code",
   "execution_count": 1075,
   "metadata": {
    "collapsed": false
   },
   "outputs": [],
   "source": [
    "\"\"\"\n",
    "features = ['X14', 'X19', 'X20', 'X28', 'X29', 'X43', 'X46', 'X47', 'X48', 'X51', 'X52', 'X54',\n",
    "            'X61', 'X66', 'X68', 'X71', 'X75', 'X76', 'X80', 'X84', 'X85', 'X96', 'X98', 'X101',\n",
    "            'X108', 'X111', 'X113', 'X115', 'X118', 'X119', 'X120', 'X126', 'X127', 'X128', 'X130',\n",
    "            'X132', 'X134', 'X136', 'X142', 'X147', 'X148', 'X150', 'X151', 'X155', 'X156', 'X157',\n",
    "            'X158', 'X159', 'X162', 'X166', 'X170', 'X171', 'X178', 'X179', 'X180', 'X185', 'X187',\n",
    "            'X189', 'X191', 'X198', 'X208', 'X209', 'X215', 'X222', 'X223', 'X224', 'X228', 'X229',\n",
    "            'X232', 'X234', 'X238', 'X241', 'X244', 'X250', 'X251', 'X255', 'X256', 'X261', 'X263',\n",
    "            'X264', 'X272', 'X273', 'X275', 'X276', 'X279', 'X286', 'X300', 'X301', 'X304', 'X306', \n",
    "            'X311', 'X313', 'X314', 'X315', 'X316', 'X328', 'X331', 'X343' ,'meanX0']\n",
    "\n",
    "'X355', =\n",
    "'X354' +\n",
    "'X352' ---xxxxxx\n",
    ", 'X350' =\n",
    ", 'X349' =\n",
    ", 'X348' ++\n",
    ", 'X343' ++\n",
    ", 'X331' --xxxxx\n",
    ", 'X328' =\n",
    ", 'X316' ------b\n",
    ", 'X315'-----------b\n",
    ", 'X314'-------b\n",
    ", 'X313'+\n",
    "'X311'--xxxxxxx\n",
    ", 'X306'+\n",
    ", 'X304' =\n",
    ", 'X301' =\n",
    ", 'X263' =\n",
    ", 'X261'-------------b\n",
    ", 'X300'++\n",
    ", 'X286'++\n",
    ", 'X279' =\n",
    ", 'X276'-------b\n",
    ", 'X275'-------b\n",
    ", 'X273'---b\n",
    ", 'X272'---b\n",
    "'X264'--b\n",
    ", 'X256'---xxxxxxxxxxxx\n",
    ", 'X255'+++\n",
    ", 'X251' =\n",
    ", 'X250' =\n",
    ", 'X244' =\n",
    ", 'X241'++\n",
    ", 'X238' =\n",
    ", 'X234' ++\n",
    "'X232' ++\n",
    ", 'X229'------b\n",
    ", 'X228'--b\n",
    ", 'X224'++\n",
    ", 'X223'----b\n",
    ", 'X222'+++++\n",
    ", 'X215'---b\n",
    ", 'X209'++\n",
    ", 'X208' =\n",
    ", 'X198'---b\n",
    ", 'X191'------b\n",
    " 'X189'++\n",
    " , 'X187' =\n",
    " , 'X185'++\n",
    " , 'X180'+++++\n",
    " , 'X179'++\n",
    " , 'X178'---b\n",
    " , 'X171' =\n",
    " , 'X170' ++\n",
    " , 'X166'++\n",
    " , 'X162'---b\n",
    " , 'X159'---b\n",
    "  'X158'---b\n",
    "  , 'X157'---b\n",
    "  , 'X156'-b\n",
    "  , 'X155'-b\n",
    "  , 'X151'-------b\n",
    "  , 'X150'-b\n",
    "  , 'X148'-------b\n",
    "  , 'X147'-b\n",
    "  , 'X142'-b\n",
    "  , 'X136'-b\n",
    "  \n",
    "\"\"\"\n",
    "features = ['X14', 'X19', 'X20', 'X28', 'X29', 'X43', 'X46', 'X47', 'X48', 'X51', 'X52', 'X54',\n",
    "            'X61', 'X66', 'X68', 'X71', 'X75', 'X76', 'X80', 'X84', 'X85', 'X96', 'X98', 'X101',\n",
    "            'X108', 'X111', 'X113', 'X115', 'X118', 'X119', 'X120', 'X126', 'X127', 'X128', 'X130',\n",
    "            'X132', 'X134'\n",
    "           \n",
    "              \n",
    "      , 'X136', 'X142', 'X147', 'X148', 'X150' , 'X151' , 'X155' , 'X156', 'X157',\n",
    "            'X158', 'X159', 'X162', 'X178', 'X191', 'X198', 'X215', 'X223' , 'X228', 'X229' ,\n",
    "            'X264', 'X272' , 'X273', 'X275', 'X276', 'X261', 'X314', 'X315', 'X316' ,'meanX0']"
   ]
  },
  {
   "cell_type": "code",
   "execution_count": 1076,
   "metadata": {
    "collapsed": false
   },
   "outputs": [],
   "source": [
    "train = train[features]\n",
    "test = test[features]"
   ]
  },
  {
   "cell_type": "code",
   "execution_count": 1077,
   "metadata": {
    "collapsed": false
   },
   "outputs": [
    {
     "data": {
      "text/plain": [
       "(4209, 66)"
      ]
     },
     "execution_count": 1077,
     "metadata": {},
     "output_type": "execute_result"
    }
   ],
   "source": [
    "train.shape"
   ]
  },
  {
   "cell_type": "code",
   "execution_count": 1078,
   "metadata": {
    "collapsed": true
   },
   "outputs": [],
   "source": [
    "#xgbm = xgb.sklearn.XGBRegressor(max_depth=4, learning_rate=0.005, subsample=0.9, base_score=y_mean,\n",
    "#                                objective='reg:linear', n_estimators=1000)\n",
    "\n",
    "xgbm = xgb.sklearn.XGBRegressor(max_depth=4, learning_rate=0.0045, subsample=0.98, base_score=y_mean,\n",
    "                                objective='reg:linear', n_estimators=1000)"
   ]
  },
  {
   "cell_type": "code",
   "execution_count": 1079,
   "metadata": {
    "collapsed": true
   },
   "outputs": [],
   "source": [
    "rf = RandomForestRegressor(n_estimators=250, n_jobs=4, min_samples_split=25, min_samples_leaf=25, max_depth=3)\n",
    "\n",
    "rf2 = RandomForestRegressor(n_estimators=1000)\n",
    "                           \n",
    "et = ExtraTreesRegressor(n_estimators=100, n_jobs=4, min_samples_split=25, min_samples_leaf=35, max_features=150)\n",
    "\n",
    "xgbm2 = xgb.sklearn.XGBRegressor(max_depth=4, learning_rate=0.005, subsample=0.9, base_score=y_mean,\n",
    "                                objective='reg:linear', n_estimators=1000)\n",
    "\n",
    "en = ElasticNet()\n",
    "\n",
    "lreg = LinearRegression()"
   ]
  },
  {
   "cell_type": "code",
   "execution_count": 1080,
   "metadata": {
    "collapsed": false
   },
   "outputs": [
    {
     "name": "stdout",
     "output_type": "stream",
     "text": [
      "0.5729 (0.0735)\n"
     ]
    }
   ],
   "source": [
    "results = cross_val_score(xgbm, train, y_train, cv=5, scoring='r2')\n",
    "print(\"%.4f (%.4f)\" % (results.mean(), results.std()))"
   ]
  },
  {
   "cell_type": "code",
   "execution_count": 1081,
   "metadata": {
    "collapsed": false
   },
   "outputs": [
    {
     "name": "stdout",
     "output_type": "stream",
     "text": [
      "0.5739 (0.0720)\n"
     ]
    }
   ],
   "source": [
    "xgb_model = xgb.sklearn.XGBRegressor(max_depth=3, learning_rate=0.0045, subsample=0.921,\n",
    "                                     objective='reg:linear', n_estimators=900, base_score=y_mean, min_child_weight=3\n",
    "                                    , colsample_bytree=1)\n",
    "\n",
    "results = cross_val_score(xgb_model, train, y_train, cv=5, scoring='r2')\n",
    "print(\"%.4f (%.4f)\" % (results.mean(), results.std()))"
   ]
  },
  {
   "cell_type": "code",
   "execution_count": 1082,
   "metadata": {
    "collapsed": false
   },
   "outputs": [
    {
     "name": "stdout",
     "output_type": "stream",
     "text": [
      "0.5741 (0.0727)\n"
     ]
    }
   ],
   "source": [
    "xgbm3 = xgb.sklearn.XGBRegressor(max_depth=3, learning_rate=0.0045, subsample=0.94, base_score=y_mean,\n",
    "                                objective='reg:linear', n_estimators=1100, min_child_weight=3)\n",
    "\n",
    "results = cross_val_score(xgbm3, train, y_train, cv=5, scoring='r2')\n",
    "print(\"%.4f (%.4f)\" % (results.mean(), results.std()))"
   ]
  },
  {
   "cell_type": "markdown",
   "metadata": {},
   "source": [
    "# Models With KBest"
   ]
  },
  {
   "cell_type": "markdown",
   "metadata": {},
   "source": [
    "###### input features for KBest\n",
    "\n",
    "k_features = ['X14', 'X19', 'X20', 'X28', 'X29', 'X43', 'X46', 'X47', 'X48', 'X51', 'X52', 'X54',\n",
    "            'X61', 'X66', 'X68', 'X71', 'X75', 'X76', 'X80', 'X84', 'X85', 'X96', 'X98', 'X101',\n",
    "            'X108', 'X111', 'X113', 'X115', 'X118', 'X119', 'X120', 'X126', 'X127', 'X128', 'X130',\n",
    "            'X132', 'X134'  \n",
    "      , 'X136', 'X142', 'X147', 'X148', 'X150' , 'X151' , 'X155' , 'X156', 'X157',\n",
    "    'X158', 'X159', 'X162', 'X178', 'X191', 'X198', 'X215', 'X223' , 'X228', 'X229' ,\n",
    "    'X264', 'X272' , 'X273', 'X275', 'X276', 'X261', 'X314', 'X315', 'X316' ,'meanX0']"
   ]
  },
  {
   "cell_type": "code",
   "execution_count": 1083,
   "metadata": {
    "collapsed": false
   },
   "outputs": [],
   "source": [
    "from sklearn.feature_selection import SelectKBest"
   ]
  },
  {
   "cell_type": "code",
   "execution_count": 1084,
   "metadata": {
    "collapsed": false
   },
   "outputs": [
    {
     "name": "stdout",
     "output_type": "stream",
     "text": [
      "Final Train Shape: (4209, 45)\n",
      "Final Test Shape: (4209, 45)\n"
     ]
    }
   ],
   "source": [
    "# k = 50, gives cv r2_score of 0.5733 with xgbm\n",
    "# k = 45, cv r2 = 0.5735\n",
    "\n",
    "kbest = SelectKBest(k=45) \n",
    "\n",
    "k_train = kbest.fit_transform(train, y_train)\n",
    "\n",
    "k_test = kbest.transform(test)\n",
    "\n",
    "print(\"Final Train Shape: {}\\nFinal Test Shape: {}\".format(k_train.shape, k_test.shape))"
   ]
  },
  {
   "cell_type": "code",
   "execution_count": 1085,
   "metadata": {
    "collapsed": false
   },
   "outputs": [
    {
     "name": "stdout",
     "output_type": "stream",
     "text": [
      "0.5735 (0.0729)\n"
     ]
    }
   ],
   "source": [
    "results = cross_val_score(xgbm, k_train, y_train, cv=5, scoring='r2')\n",
    "print(\"%.4f (%.4f)\" % (results.mean(), results.std()))"
   ]
  },
  {
   "cell_type": "code",
   "execution_count": 1086,
   "metadata": {
    "collapsed": false
   },
   "outputs": [
    {
     "name": "stdout",
     "output_type": "stream",
     "text": [
      "0.5661 (0.0678)\n"
     ]
    }
   ],
   "source": [
    "results = cross_val_score(rf, k_train, y_train, cv=5, scoring='r2')\n",
    "print(\"%.4f (%.4f)\" % (results.mean(), results.std()))"
   ]
  },
  {
   "cell_type": "code",
   "execution_count": 1087,
   "metadata": {
    "collapsed": false
   },
   "outputs": [
    {
     "name": "stdout",
     "output_type": "stream",
     "text": [
      "0.5742 (0.0719)\n"
     ]
    }
   ],
   "source": [
    "xgb_model = xgb.sklearn.XGBRegressor(max_depth=3, learning_rate=0.0045, subsample=0.921,\n",
    "                                     objective='reg:linear', n_estimators=900, base_score=y_mean, min_child_weight=3\n",
    "                                    , colsample_bytree=1)\n",
    "\n",
    "results = cross_val_score(xgb_model, k_train, y_train, cv=5, scoring='r2')\n",
    "print(\"%.4f (%.4f)\" % (results.mean(), results.std()))"
   ]
  },
  {
   "cell_type": "code",
   "execution_count": 1088,
   "metadata": {
    "collapsed": false
   },
   "outputs": [
    {
     "name": "stdout",
     "output_type": "stream",
     "text": [
      "0.5746 (0.0720)\n"
     ]
    }
   ],
   "source": [
    "xgbm3 = xgb.sklearn.XGBRegressor(max_depth=3, learning_rate=0.0045, subsample=0.94, base_score=y_mean,\n",
    "                                objective='reg:linear', n_estimators=1100, min_child_weight=3)\n",
    "\n",
    "results = cross_val_score(xgbm3, k_train, y_train, cv=5, scoring='r2')\n",
    "print(\"%.4f (%.4f)\" % (results.mean(), results.std()))"
   ]
  },
  {
   "cell_type": "code",
   "execution_count": null,
   "metadata": {
    "collapsed": true
   },
   "outputs": [],
   "source": []
  },
  {
   "cell_type": "code",
   "execution_count": null,
   "metadata": {
    "collapsed": true
   },
   "outputs": [],
   "source": []
  },
  {
   "cell_type": "code",
   "execution_count": null,
   "metadata": {
    "collapsed": true
   },
   "outputs": [],
   "source": []
  }
 ],
 "metadata": {
  "kernelspec": {
   "display_name": "Python 3",
   "language": "python",
   "name": "python3"
  },
  "language_info": {
   "codemirror_mode": {
    "name": "ipython",
    "version": 3
   },
   "file_extension": ".py",
   "mimetype": "text/x-python",
   "name": "python",
   "nbconvert_exporter": "python",
   "pygments_lexer": "ipython3",
   "version": "3.6.0"
  }
 },
 "nbformat": 4,
 "nbformat_minor": 2
}
